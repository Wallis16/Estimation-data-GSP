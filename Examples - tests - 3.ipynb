{
 "cells": [
  {
   "cell_type": "code",
   "execution_count": 59,
   "metadata": {},
   "outputs": [
    {
     "name": "stdout",
     "output_type": "stream",
     "text": [
      "0.20334169877334676 0.3196711215892757 0.5129901622253884 0.5325246349417662 0.6848863587931393 0.23717810905212208\n"
     ]
    },
    {
     "data": {
      "text/plain": [
       "array([[0., 1., 0., 0.],\n",
       "       [0., 0., 0., 1.]])"
      ]
     },
     "execution_count": 59,
     "metadata": {},
     "output_type": "execute_result"
    }
   ],
   "source": [
    "import numpy as np\n",
    "\n",
    "Adj=np.zeros((4,4))\n",
    "\n",
    "Adj[0][1]=0.5\n",
    "Adj[0][2]=0.25\n",
    "Adj[0][3]=0.25\n",
    "Adj[1][0]=0.667\n",
    "Adj[1][2]=0.333\n",
    "Adj[2][0]=0.333\n",
    "Adj[2][1]=0.333\n",
    "Adj[2][3]=0.333\n",
    "Adj[3][0]=0.5\n",
    "Adj[3][2]=0.5\n",
    "\n",
    "eigvals,V = np.linalg.eig(Adj)\n",
    "\n",
    "V2 = V[:, :][:, [0,3]]\n",
    "\n",
    "sM = np.zeros((2,4)) \n",
    "sM2 = np.zeros((2,4)) \n",
    "sM3 = np.zeros((2,4)) \n",
    "sM4 = np.zeros((2,4)) \n",
    "sM5 = np.zeros((2,4)) \n",
    "sM6 = np.zeros((2,4)) \n",
    "\n",
    "\n",
    "sM[0][0] = 1\n",
    "sM[1][1] = 1\n",
    "\n",
    "sM2[0][0] = 1\n",
    "sM2[1][2] = 1\n",
    "\n",
    "sM3[0][0] = 1\n",
    "sM3[1][3] = 1\n",
    "\n",
    "sM4[0][1] = 1\n",
    "sM4[1][2] = 1\n",
    "\n",
    "sM5[0][1] = 1\n",
    "sM5[1][3] = 1\n",
    "\n",
    "sM6[0][2] = 1\n",
    "sM6[1][3] = 1\n",
    "\n",
    "#print(sM,\"\\n\\n\",sM2,\"\\n\\n\",sM3,\"\\n\\n\",sM4,\"\\n\\n\",sM5,\"\\n\\n\",sM6)\n",
    "\n",
    "C = np.dot(sM,V2)\n",
    "C2 = np.dot(sM2,V2)\n",
    "C3 = np.dot(sM3,V2)\n",
    "C4 = np.dot(sM4,V2)\n",
    "C5 = np.dot(sM5,V2)\n",
    "C6 = np.dot(sM6,V2)\n",
    "\n",
    "u, s, vh = np.linalg.svd(C, full_matrices=True)\n",
    "u2, s2, vh2 = np.linalg.svd(C2, full_matrices=True)\n",
    "u3, s3, vh3 = np.linalg.svd(C3, full_matrices=True)\n",
    "u4, s4, vh4 = np.linalg.svd(C4, full_matrices=True)\n",
    "u5, s5, vh5 = np.linalg.svd(C5, full_matrices=True)\n",
    "u6, s6, vh6 = np.linalg.svd(C6, full_matrices=True)\n",
    "\n",
    "print(np.min(s)\n",
    ",np.min(s2)\n",
    ",np.min(s3)\n",
    ",np.min(s4)\n",
    ",np.min(s5)\n",
    ",np.min(s6))\n",
    "\n",
    "sM5"
   ]
  },
  {
   "cell_type": "code",
   "execution_count": 33,
   "metadata": {},
   "outputs": [],
   "source": [
    "import numpy as np\n",
    "Adj=np.zeros((2,3))\n",
    "\n",
    "Adj[0][0]=1\n",
    "Adj[0][1]=2\n",
    "Adj[0][2]=3\n",
    "Adj[1][0]=4\n",
    "Adj[1][1]=5\n",
    "Adj[1][2]=6\n",
    "\n",
    "Aux=np.zeros((3,1))\n",
    "\n",
    "u, s, vh = np.linalg.svd(Aux, full_matrices=True)"
   ]
  },
  {
   "cell_type": "code",
   "execution_count": 4,
   "metadata": {},
   "outputs": [
    {
     "data": {
      "text/plain": [
       "array([[0., 1., 0., 0.],\n",
       "       [0., 0., 0., 1.]])"
      ]
     },
     "execution_count": 4,
     "metadata": {},
     "output_type": "execute_result"
    }
   ],
   "source": [
    "from itertools import combinations \n",
    "import numpy as np\n",
    "import operator\n",
    "\n",
    "A=np.zeros((4,4))\n",
    "\n",
    "A[0][1]=0.5\n",
    "A[0][2]=0.25\n",
    "A[0][3]=0.25\n",
    "A[1][0]=0.667\n",
    "A[1][2]=0.333\n",
    "A[2][0]=0.333\n",
    "A[2][1]=0.333\n",
    "A[2][3]=0.333\n",
    "A[3][0]=0.5\n",
    "A[3][2]=0.5\n",
    "\n",
    "eigvals,V = np.linalg.eig(A)\n",
    "### trocar len(A) por len(V2) ... para o input só precisa de M e de V2\n",
    "###\n",
    "Ve = V[:, :][:, [0,3]]\n",
    "###\n",
    "\n",
    "M = 2\n",
    "\n",
    "def optimal_sampling_operator(M,V2):\n",
    "    a = np.zeros((1,len(V2)))\n",
    "    b = np.zeros((len(V2),len(V2)))\n",
    "\n",
    "    for j in range(len(V2)):\n",
    "        a[0,j] = 1\n",
    "        b[j] = a\n",
    "        a = np.zeros((1,len(V2)))\n",
    "\n",
    "    cb = np.arange(len(V2))\n",
    "    comb = combinations(cb, M)\n",
    "    len_ = len(list(combinations(cb, M)))\n",
    "\n",
    "    Psi = np.zeros((len_,M,len(V2)))\n",
    "\n",
    "    k = 0\n",
    "    for i in list(comb):\n",
    "        Psi[k] = [b[i[0]],b[i[1]]]\n",
    "        k = k + 1\n",
    "\n",
    "    lst = []\n",
    "    for i in range(k):\n",
    "        C = np.dot(Psi[i],V2)\n",
    "        u, s, vh = np.linalg.svd(C, full_matrices=True)\n",
    "        lst.append(np.min(s))\n",
    "\n",
    "    index, value = max(enumerate(lst), key=operator.itemgetter(1))\n",
    "\n",
    "    return (Psi[index])\n",
    "\n",
    "R = optimal_sampling_operator(2,Ve)\n",
    "R"
   ]
  },
  {
   "cell_type": "code",
   "execution_count": 40,
   "metadata": {},
   "outputs": [
    {
     "data": {
      "text/plain": [
       "array([[0., 1., 0., 0.],\n",
       "       [0., 0., 0., 1.]])"
      ]
     },
     "execution_count": 40,
     "metadata": {},
     "output_type": "execute_result"
    }
   ],
   "source": [
    "from itertools import combinations \n",
    "import numpy as np\n",
    "import operator\n",
    "\n",
    "A=np.zeros((4,4))\n",
    "\n",
    "A[0][1]=0.5\n",
    "A[0][2]=0.25\n",
    "A[0][3]=0.25\n",
    "A[1][0]=0.667\n",
    "A[1][2]=0.333\n",
    "A[2][0]=0.333\n",
    "A[2][1]=0.333\n",
    "A[2][3]=0.333\n",
    "A[3][0]=0.5\n",
    "A[3][2]=0.5\n",
    "\n",
    "eigvals,V = np.linalg.eig(A)\n",
    "### trocar len(A) por len(V2) ... para o input só precisa de M e de V2\n",
    "###\n",
    "Ve = V[:, :][:, [0,3]]\n",
    "###\n",
    "\n",
    "M = 2\n",
    "\n",
    "def optimal_sampling_operator(M,V2):\n",
    "    a = np.zeros((1,len(V2)))\n",
    "    b = np.zeros((len(V2),len(V2)))\n",
    "\n",
    "    for j in range(len(V2)):\n",
    "        a[0,j] = 1\n",
    "        b[j] = a\n",
    "        a = np.zeros((1,len(V2)))\n",
    "\n",
    "    cb = np.arange(len(V2))\n",
    "    comb = combinations(cb, M)\n",
    "    len_ = len(list(combinations(cb, M)))\n",
    "\n",
    "    Psi = np.zeros((len_,M,len(V2)))\n",
    "\n",
    "    k = 0\n",
    "    for i in list(comb):\n",
    "        for j in range(M):\n",
    "            Psi[k][j] = b[i[j]]\n",
    "        k = k + 1\n",
    "\n",
    "    lst = []\n",
    "    for i in range(k):\n",
    "        C = np.dot(Psi[i],V2)\n",
    "        u, s, vh = np.linalg.svd(C, full_matrices=True)\n",
    "        lst.append(np.min(s))\n",
    "\n",
    "    index, value = max(enumerate(lst), key=operator.itemgetter(1))\n",
    "\n",
    "    return (Psi[index])\n",
    "\n",
    "R = optimal_sampling_operator(2,Ve)\n",
    "R"
   ]
  },
  {
   "cell_type": "code",
   "execution_count": 33,
   "metadata": {},
   "outputs": [],
   "source": [
    "Psi = np.zeros((6,3,len(Ve)))\n",
    "#Psi[0] = [[1,1,1,1],[1,1,1,0],[1,1,0,1]]\n",
    "Psi[0][0] = [1,1,1,1]"
   ]
  },
  {
   "cell_type": "code",
   "execution_count": 34,
   "metadata": {},
   "outputs": [
    {
     "data": {
      "text/plain": [
       "array([[1., 1., 1., 1.],\n",
       "       [0., 0., 0., 0.],\n",
       "       [0., 0., 0., 0.]])"
      ]
     },
     "execution_count": 34,
     "metadata": {},
     "output_type": "execute_result"
    }
   ],
   "source": [
    "Psi[0]"
   ]
  }
 ],
 "metadata": {
  "kernelspec": {
   "display_name": "Python 3",
   "language": "python",
   "name": "python3"
  },
  "language_info": {
   "codemirror_mode": {
    "name": "ipython",
    "version": 3
   },
   "file_extension": ".py",
   "mimetype": "text/x-python",
   "name": "python",
   "nbconvert_exporter": "python",
   "pygments_lexer": "ipython3",
   "version": "3.5.2"
  }
 },
 "nbformat": 4,
 "nbformat_minor": 2
}
