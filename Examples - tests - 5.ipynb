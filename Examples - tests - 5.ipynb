{
 "cells": [
  {
   "cell_type": "code",
   "execution_count": 169,
   "metadata": {},
   "outputs": [],
   "source": [
    "def optimal_sampling_operator_greedy_algorithm(M,V2):\n",
    "\n",
    "    import numpy as np\n",
    "    import operator\n",
    "\n",
    "    lst = []\n",
    "    Psi = np.zeros((M,len(V2)))\n",
    "    a = np.zeros((1,len(V2)))\n",
    "    b = np.zeros((len(V2),len(V2)))\n",
    "    V = V2\n",
    "    \n",
    "    for j in range(len(V2)):\n",
    "        a[0,j] = 1\n",
    "        b[j] = a\n",
    "        a = np.zeros((1,len(V2)))\n",
    "    \n",
    "    k = 0\n",
    "    while k < M:\n",
    "        for i in range(len(V2)):\n",
    "            u, s, vh = np.linalg.svd([V2[i]], full_matrices=True)\n",
    "            lst.append(np.min(s))\n",
    "\n",
    "        index, value = max(enumerate(lst), key=operator.itemgetter(1))\n",
    "        ind = np.where((V == V2[index]).all(axis=1))\n",
    "        V2 = np.delete(V2, (index), axis=0)\n",
    "        Psi[k] = b[ind[0]]\n",
    "        k=k+1\n",
    "        lst = []\n",
    "    \n",
    "    return(Psi)"
   ]
  },
  {
   "cell_type": "code",
   "execution_count": 170,
   "metadata": {},
   "outputs": [
    {
     "name": "stdout",
     "output_type": "stream",
     "text": [
      "[[0. 0. 0. 1.]\n",
      " [0. 1. 0. 0.]]\n"
     ]
    }
   ],
   "source": [
    "import numpy as np\n",
    "import operator\n",
    "\n",
    "Adj=np.zeros((4,4))\n",
    "\n",
    "Adj[0][1]=0.5\n",
    "Adj[0][2]=0.25\n",
    "Adj[0][3]=0.25\n",
    "Adj[1][0]=0.667\n",
    "Adj[1][2]=0.333\n",
    "Adj[2][0]=0.333\n",
    "Adj[2][1]=0.333\n",
    "Adj[2][3]=0.333\n",
    "Adj[3][0]=0.5\n",
    "Adj[3][2]=0.5\n",
    "\n",
    "eigvals,V = np.linalg.eig(Adj)\n",
    "\n",
    "V2 = V[:, :][:, [0,3]]\n",
    "\n",
    "a = np.zeros((1,len(V2)))\n",
    "b = np.zeros((len(V2),len(V2)))\n",
    "\n",
    "Psi = np.zeros((M,len(V2)))\n",
    "\n",
    "for j in range(len(V2)):\n",
    "    a[0,j] = 1\n",
    "    b[j] = a\n",
    "    a = np.zeros((1,len(V2)))\n",
    "\n",
    "V2 = V[:, :][:, [0,3]]\n",
    "lst = []\n",
    "M = 2\n",
    "m = np.zeros((M,len(V2)))\n",
    "k = 0\n",
    "while k < M:\n",
    "    for i in range(len(V2)):\n",
    "        u, s, vh = np.linalg.svd([V2[i]], full_matrices=True)\n",
    "        lst.append(np.min(s))\n",
    "\n",
    "    index, value = max(enumerate(lst), key=operator.itemgetter(1))\n",
    "    V2 = np.delete(V2, (index), axis=0)\n",
    "    m[k] = b[index]\n",
    "    k=k+1\n",
    "    lst = []\n",
    "    \n",
    "print(m)"
   ]
  },
  {
   "cell_type": "code",
   "execution_count": null,
   "metadata": {},
   "outputs": [],
   "source": []
  },
  {
   "cell_type": "code",
   "execution_count": 171,
   "metadata": {},
   "outputs": [
    {
     "name": "stdout",
     "output_type": "stream",
     "text": [
      "[[0. 0. 0. 1.]\n",
      " [0. 1. 0. 0.]]\n"
     ]
    }
   ],
   "source": [
    "import numpy as np\n",
    "import operator\n",
    "\n",
    "Adj=np.zeros((4,4))\n",
    "\n",
    "Adj[0][1]=0.5\n",
    "Adj[0][2]=0.25\n",
    "Adj[0][3]=0.25\n",
    "Adj[1][0]=0.667\n",
    "Adj[1][2]=0.333\n",
    "Adj[2][0]=0.333\n",
    "Adj[2][1]=0.333\n",
    "Adj[2][3]=0.333\n",
    "Adj[3][0]=0.5\n",
    "Adj[3][2]=0.5\n",
    "\n",
    "eigvals,V = np.linalg.eig(Adj)\n",
    "\n",
    "V2 = V[:, :][:, [0,3]]\n",
    "\n",
    "P = optimal_sampling_operator_greedy_algorithm(2,V2)\n",
    "print(P)"
   ]
  },
  {
   "cell_type": "code",
   "execution_count": 172,
   "metadata": {},
   "outputs": [
    {
     "data": {
      "text/plain": [
       "array([0])"
      ]
     },
     "execution_count": 172,
     "metadata": {},
     "output_type": "execute_result"
    }
   ],
   "source": [
    "C = np.ones((1,4))\n",
    "\n",
    "V[2][0] = 1\n",
    "V[2][1] = 1\n",
    "V[2][2] = 1\n",
    "V[2][3] = 1\n",
    "\n",
    "ind = np.where((C == V[2]).all(axis=1))\n",
    "ind[0]"
   ]
  },
  {
   "cell_type": "code",
   "execution_count": null,
   "metadata": {},
   "outputs": [],
   "source": []
  }
 ],
 "metadata": {
  "kernelspec": {
   "display_name": "Python 3",
   "language": "python",
   "name": "python3"
  },
  "language_info": {
   "codemirror_mode": {
    "name": "ipython",
    "version": 3
   },
   "file_extension": ".py",
   "mimetype": "text/x-python",
   "name": "python",
   "nbconvert_exporter": "python",
   "pygments_lexer": "ipython3",
   "version": "3.5.2"
  }
 },
 "nbformat": 4,
 "nbformat_minor": 2
}
