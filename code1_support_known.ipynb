{
 "cells": [
  {
   "cell_type": "code",
   "execution_count": 73,
   "metadata": {},
   "outputs": [
    {
     "name": "stdout",
     "output_type": "stream",
     "text": [
      "[[0.    0.5   0.25  0.25 ]\n",
      " [0.667 0.    0.333 0.   ]\n",
      " [0.333 0.333 0.    0.333]\n",
      " [0.5   0.    0.5   0.   ]]\n"
     ]
    },
    {
     "data": {
      "image/png": "[encoded data removed]",
      "text/plain": [
       "<Figure size 432x288 with 2 Axes>"
      ]
     },
     "metadata": {},
     "output_type": "display_data"
    }
   ],
   "source": [
    "import numpy as np\n",
    "import matplotlib.pyplot as plt\n",
    "from pygsp import *\n",
    "\n",
    "Adj=np.zeros((4,4))\n",
    "\n",
    "Adj[0][1]=0.5\n",
    "Adj[0][2]=0.25\n",
    "Adj[0][3]=0.25\n",
    "Adj[1][0]=0.667\n",
    "Adj[1][2]=0.333\n",
    "Adj[2][0]=0.333\n",
    "Adj[2][1]=0.333\n",
    "Adj[2][3]=0.333\n",
    "Adj[3][0]=0.5\n",
    "Adj[3][2]=0.5\n",
    "\n",
    "Coord1=np.zeros((4,2))\n",
    "Coord1[0][0]=1\n",
    "Coord1[0][1]=2\n",
    "Coord1[1][0]=1\n",
    "Coord1[1][1]=1\n",
    "Coord1[2][0]=2\n",
    "Coord1[2][1]=1\n",
    "Coord1[3][0]=2\n",
    "Coord1[3][1]=2\n",
    "\n",
    "x = np.zeros((1,4))\n",
    "\n",
    "x[0][0] = 0.5914\n",
    "x[0][1] = 0.7717\n",
    "x[0][2] = 0.3642\n",
    "x[0][3] = 0.1135\n",
    "\n",
    "G = graphs.Graph(Adj)\n",
    "G.set_coordinates(Coord1)\n",
    "plotting.plot_signal(G, x, vertex_size = 60)\n",
    "\n",
    "print(Adj)"
   ]
  },
  {
   "cell_type": "code",
   "execution_count": 87,
   "metadata": {},
   "outputs": [
    {
     "name": "stdout",
     "output_type": "stream",
     "text": [
      "[ 0.99975002 -0.72417637 -0.33320439  0.05763074] \n",
      "\n",
      " [[-0.50012261 -0.49992415 -0.45154552 -0.18259481]\n",
      " [-0.50011309  0.59767018  0.15074485 -0.54340184]\n",
      " [-0.49971859 -0.29840604  0.75360967  0.27169395]\n",
      " [-0.5000456   0.55119873 -0.45327155  0.77301745]]\n"
     ]
    },
    {
     "data": {
      "image/png": "[encoded data removed]",
      "text/plain": [
       "<Figure size 432x288 with 1 Axes>"
      ]
     },
     "metadata": {},
     "output_type": "display_data"
    }
   ],
   "source": [
    "from gspy import *\n",
    "\n",
    "fsize = 24 # plot axis font size\n",
    "msize = 14 # marker size\n",
    "csize = fsize - 2 # colorbar label size\n",
    "graph_node_size = 80\n",
    "\n",
    "eigvals,V = np.linalg.eig(Adj)\n",
    "\n",
    "Vinv = np.linalg.inv(V)\n",
    "\n",
    "eigval_abs_max = np.max(np.abs(eigvals))\n",
    "\n",
    "index_eig_sort = np.argsort(np.abs(eigvals - eigval_abs_max))\n",
    "\n",
    "ss = np.dot(Vinv,x.transpose()) #GFT\n",
    "\n",
    "# A GFT é plotada\n",
    "plt.figure()\n",
    "\n",
    "stem(eigvals[index_eig_sort],np.abs(ss[index_eig_sort]),fsize=18,msize=8,color='b',linestyle='--',labelstr=0,alph=0.6)\n",
    "\n",
    "plt.xlabel('Autovalor',fontsize=fsize)\n",
    "plt.ylabel('GFT(s)',fontsize=fsize)\n",
    "plt.tick_params(labelsize=fsize-2)\n",
    "plt.axis('tight')\n",
    "\n",
    "print(eigvals,\"\\n\\n\",V)"
   ]
  },
  {
   "cell_type": "code",
   "execution_count": 91,
   "metadata": {},
   "outputs": [
    {
     "name": "stdout",
     "output_type": "stream",
     "text": [
      "[[ 1.00000000e+00  4.88131060e-17]\n",
      " [ 4.02532184e-17  1.00000000e+00]\n",
      " [ 2.25783785e+00 -1.25866966e+00]\n",
      " [ 3.64823320e+00 -2.64843761e+00]]\n"
     ]
    }
   ],
   "source": [
    "V2 = V[:, :][:, [0,3]]\n",
    "\n",
    "sM = np.zeros((2,4)) \n",
    "\n",
    "sM[0][0] = 1\n",
    "sM[1][1] = 1\n",
    "\n",
    "C = np.dot(sM,V2)\n",
    "C = np.linalg.inv(C)\n",
    "\n",
    "R = np.dot(V2,C)\n",
    "\n",
    "print(R)"
   ]
  },
  {
   "cell_type": "code",
   "execution_count": 92,
   "metadata": {},
   "outputs": [
    {
     "name": "stdout",
     "output_type": "stream",
     "text": [
      "[[0.5914    ]\n",
      " [0.7717    ]\n",
      " [0.36396993]\n",
      " [0.11376581]]\n"
     ]
    }
   ],
   "source": [
    "xM = np.dot(sM,x.transpose()) \n",
    "\n",
    "x_n = np.dot(R,xM)\n",
    "print(x_n)"
   ]
  }
 ],
 "metadata": {
  "kernelspec": {
   "display_name": "Python 3",
   "language": "python",
   "name": "python3"
  },
  "language_info": {
   "codemirror_mode": {
    "name": "ipython",
    "version": 3
   },
   "file_extension": ".py",
   "mimetype": "text/x-python",
   "name": "python",
   "nbconvert_exporter": "python",
   "pygments_lexer": "ipython3",
   "version": "3.5.2"
  }
 },
 "nbformat": 4,
 "nbformat_minor": 2
}
